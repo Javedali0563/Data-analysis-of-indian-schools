{
 "cells": [
  {
   "cell_type": "markdown",
   "metadata": {},
   "source": [
    "### Some useful questions answer by this notebook\n",
    "\n",
    "- Which state has maximum dropout in primary school, Upper primary school, Secondary school, Higher Secondary school?"
   ]
  },
  {
   "cell_type": "markdown",
   "metadata": {},
   "source": [
    "1. The state that has maximum dropout in primary school"
   ]
  },
  {
   "cell_type": "code",
   "execution_count": 1,
   "metadata": {},
   "outputs": [],
   "source": [
    "import pandas as pd\n",
    "import matplotlib.pyplot as plt \n",
    "%matplotlib inline"
   ]
  },
  {
   "cell_type": "code",
   "execution_count": 2,
   "metadata": {},
   "outputs": [],
   "source": [
    "dropout = pd.read_csv('data/dropout-ratio-2012-2015.csv')"
   ]
  },
  {
   "cell_type": "code",
   "execution_count": 3,
   "metadata": {},
   "outputs": [
    {
     "data": {
      "text/html": [
       "<div>\n",
       "<style scoped>\n",
       "    .dataframe tbody tr th:only-of-type {\n",
       "        vertical-align: middle;\n",
       "    }\n",
       "\n",
       "    .dataframe tbody tr th {\n",
       "        vertical-align: top;\n",
       "    }\n",
       "\n",
       "    .dataframe thead th {\n",
       "        text-align: right;\n",
       "    }\n",
       "</style>\n",
       "<table border=\"1\" class=\"dataframe\">\n",
       "  <thead>\n",
       "    <tr style=\"text-align: right;\">\n",
       "      <th></th>\n",
       "      <th>State_UT</th>\n",
       "      <th>year</th>\n",
       "      <th>Primary_Boys</th>\n",
       "      <th>Primary_Girls</th>\n",
       "      <th>Primary_Total</th>\n",
       "      <th>Upper Primary_Boys</th>\n",
       "      <th>Upper Primary_Girls</th>\n",
       "      <th>Upper Primary_Total</th>\n",
       "      <th>Secondary _Boys</th>\n",
       "      <th>Secondary _Girls</th>\n",
       "      <th>Secondary _Total</th>\n",
       "      <th>HrSecondary_Boys</th>\n",
       "      <th>HrSecondary_Girls</th>\n",
       "      <th>HrSecondary_Total</th>\n",
       "    </tr>\n",
       "  </thead>\n",
       "  <tbody>\n",
       "    <tr>\n",
       "      <th>0</th>\n",
       "      <td>A &amp; N Islands</td>\n",
       "      <td>2012-13</td>\n",
       "      <td>0.83</td>\n",
       "      <td>0.51</td>\n",
       "      <td>0.68</td>\n",
       "      <td>Uppe_r_Primary</td>\n",
       "      <td>1.09</td>\n",
       "      <td>1.23</td>\n",
       "      <td>5.57</td>\n",
       "      <td>5.55</td>\n",
       "      <td>5.56</td>\n",
       "      <td>17.66</td>\n",
       "      <td>10.15</td>\n",
       "      <td>14.14</td>\n",
       "    </tr>\n",
       "    <tr>\n",
       "      <th>1</th>\n",
       "      <td>A &amp; N Islands</td>\n",
       "      <td>2013-14</td>\n",
       "      <td>1.35</td>\n",
       "      <td>1.06</td>\n",
       "      <td>1.21</td>\n",
       "      <td>NR</td>\n",
       "      <td>1.54</td>\n",
       "      <td>0.51</td>\n",
       "      <td>8.36</td>\n",
       "      <td>5.98</td>\n",
       "      <td>7.2</td>\n",
       "      <td>18.94</td>\n",
       "      <td>12.2</td>\n",
       "      <td>15.87</td>\n",
       "    </tr>\n",
       "    <tr>\n",
       "      <th>2</th>\n",
       "      <td>A &amp; N Islands</td>\n",
       "      <td>2014-15</td>\n",
       "      <td>0.47</td>\n",
       "      <td>0.55</td>\n",
       "      <td>0.51</td>\n",
       "      <td>1.44</td>\n",
       "      <td>1.95</td>\n",
       "      <td>1.69</td>\n",
       "      <td>11.47</td>\n",
       "      <td>8.16</td>\n",
       "      <td>9.87</td>\n",
       "      <td>21.05</td>\n",
       "      <td>12.21</td>\n",
       "      <td>16.93</td>\n",
       "    </tr>\n",
       "    <tr>\n",
       "      <th>3</th>\n",
       "      <td>Andhra Pradesh</td>\n",
       "      <td>2012-13</td>\n",
       "      <td>3.3</td>\n",
       "      <td>3.05</td>\n",
       "      <td>3.18</td>\n",
       "      <td>3.21</td>\n",
       "      <td>3.51</td>\n",
       "      <td>3.36</td>\n",
       "      <td>12.21</td>\n",
       "      <td>13.25</td>\n",
       "      <td>12.72</td>\n",
       "      <td>2.66</td>\n",
       "      <td>NR</td>\n",
       "      <td>0.35</td>\n",
       "    </tr>\n",
       "    <tr>\n",
       "      <th>4</th>\n",
       "      <td>Andhra Pradesh</td>\n",
       "      <td>2013-14</td>\n",
       "      <td>4.31</td>\n",
       "      <td>4.39</td>\n",
       "      <td>4.35</td>\n",
       "      <td>3.46</td>\n",
       "      <td>4.12</td>\n",
       "      <td>3.78</td>\n",
       "      <td>11.95</td>\n",
       "      <td>13.37</td>\n",
       "      <td>12.65</td>\n",
       "      <td>12.65</td>\n",
       "      <td>10.85</td>\n",
       "      <td>11.79</td>\n",
       "    </tr>\n",
       "    <tr>\n",
       "      <th>...</th>\n",
       "      <td>...</td>\n",
       "      <td>...</td>\n",
       "      <td>...</td>\n",
       "      <td>...</td>\n",
       "      <td>...</td>\n",
       "      <td>...</td>\n",
       "      <td>...</td>\n",
       "      <td>...</td>\n",
       "      <td>...</td>\n",
       "      <td>...</td>\n",
       "      <td>...</td>\n",
       "      <td>...</td>\n",
       "      <td>...</td>\n",
       "      <td>...</td>\n",
       "    </tr>\n",
       "    <tr>\n",
       "      <th>105</th>\n",
       "      <td>West Bengal</td>\n",
       "      <td>2013-14</td>\n",
       "      <td>3.44</td>\n",
       "      <td>2.37</td>\n",
       "      <td>2.91</td>\n",
       "      <td>5.63</td>\n",
       "      <td>3.1</td>\n",
       "      <td>4.31</td>\n",
       "      <td>16.73</td>\n",
       "      <td>19.77</td>\n",
       "      <td>18.34</td>\n",
       "      <td>8.03</td>\n",
       "      <td>7.76</td>\n",
       "      <td>7.9</td>\n",
       "    </tr>\n",
       "    <tr>\n",
       "      <th>106</th>\n",
       "      <td>West Bengal</td>\n",
       "      <td>2014-15</td>\n",
       "      <td>2.13</td>\n",
       "      <td>0.79</td>\n",
       "      <td>1.47</td>\n",
       "      <td>5.84</td>\n",
       "      <td>2.88</td>\n",
       "      <td>4.3</td>\n",
       "      <td>16.33</td>\n",
       "      <td>19.06</td>\n",
       "      <td>17.8</td>\n",
       "      <td>8.18</td>\n",
       "      <td>8.04</td>\n",
       "      <td>8.11</td>\n",
       "    </tr>\n",
       "    <tr>\n",
       "      <th>107</th>\n",
       "      <td>All India</td>\n",
       "      <td>2012-13</td>\n",
       "      <td>4.68</td>\n",
       "      <td>4.66</td>\n",
       "      <td>4.67</td>\n",
       "      <td>2.3</td>\n",
       "      <td>4.01</td>\n",
       "      <td>3.13</td>\n",
       "      <td>14.54</td>\n",
       "      <td>14.54</td>\n",
       "      <td>14.54</td>\n",
       "      <td>NR</td>\n",
       "      <td>NR</td>\n",
       "      <td>NR</td>\n",
       "    </tr>\n",
       "    <tr>\n",
       "      <th>108</th>\n",
       "      <td>All India</td>\n",
       "      <td>2013-14</td>\n",
       "      <td>4.53</td>\n",
       "      <td>4.14</td>\n",
       "      <td>4.34</td>\n",
       "      <td>3.09</td>\n",
       "      <td>4.49</td>\n",
       "      <td>3.77</td>\n",
       "      <td>17.93</td>\n",
       "      <td>17.79</td>\n",
       "      <td>17.86</td>\n",
       "      <td>1.48</td>\n",
       "      <td>1.61</td>\n",
       "      <td>1.54</td>\n",
       "    </tr>\n",
       "    <tr>\n",
       "      <th>109</th>\n",
       "      <td>All India</td>\n",
       "      <td>2014-15</td>\n",
       "      <td>4.36</td>\n",
       "      <td>3.88</td>\n",
       "      <td>4.13</td>\n",
       "      <td>3.49</td>\n",
       "      <td>4.6</td>\n",
       "      <td>4.03</td>\n",
       "      <td>17.21</td>\n",
       "      <td>16.88</td>\n",
       "      <td>17.06</td>\n",
       "      <td>0.25</td>\n",
       "      <td>NR</td>\n",
       "      <td>NR</td>\n",
       "    </tr>\n",
       "  </tbody>\n",
       "</table>\n",
       "<p>110 rows × 14 columns</p>\n",
       "</div>"
      ],
      "text/plain": [
       "           State_UT     year Primary_Boys Primary_Girls Primary_Total  \\\n",
       "0     A & N Islands  2012-13         0.83          0.51          0.68   \n",
       "1     A & N Islands  2013-14         1.35          1.06          1.21   \n",
       "2     A & N Islands  2014-15         0.47          0.55          0.51   \n",
       "3    Andhra Pradesh  2012-13          3.3          3.05          3.18   \n",
       "4    Andhra Pradesh  2013-14         4.31          4.39          4.35   \n",
       "..              ...      ...          ...           ...           ...   \n",
       "105     West Bengal  2013-14         3.44          2.37          2.91   \n",
       "106     West Bengal  2014-15         2.13          0.79          1.47   \n",
       "107       All India  2012-13         4.68          4.66          4.67   \n",
       "108       All India  2013-14         4.53          4.14          4.34   \n",
       "109       All India  2014-15         4.36          3.88          4.13   \n",
       "\n",
       "    Upper Primary_Boys Upper Primary_Girls Upper Primary_Total  \\\n",
       "0       Uppe_r_Primary                1.09                1.23   \n",
       "1                   NR                1.54                0.51   \n",
       "2                 1.44                1.95                1.69   \n",
       "3                 3.21                3.51                3.36   \n",
       "4                 3.46                4.12                3.78   \n",
       "..                 ...                 ...                 ...   \n",
       "105               5.63                 3.1                4.31   \n",
       "106               5.84                2.88                 4.3   \n",
       "107                2.3                4.01                3.13   \n",
       "108               3.09                4.49                3.77   \n",
       "109               3.49                 4.6                4.03   \n",
       "\n",
       "    Secondary _Boys Secondary _Girls Secondary _Total HrSecondary_Boys  \\\n",
       "0              5.57             5.55             5.56            17.66   \n",
       "1              8.36             5.98              7.2            18.94   \n",
       "2             11.47             8.16             9.87            21.05   \n",
       "3             12.21            13.25            12.72             2.66   \n",
       "4             11.95            13.37            12.65            12.65   \n",
       "..              ...              ...              ...              ...   \n",
       "105           16.73            19.77            18.34             8.03   \n",
       "106           16.33            19.06             17.8             8.18   \n",
       "107           14.54            14.54            14.54               NR   \n",
       "108           17.93            17.79            17.86             1.48   \n",
       "109           17.21            16.88            17.06             0.25   \n",
       "\n",
       "    HrSecondary_Girls HrSecondary_Total  \n",
       "0               10.15             14.14  \n",
       "1                12.2             15.87  \n",
       "2               12.21             16.93  \n",
       "3                  NR              0.35  \n",
       "4               10.85             11.79  \n",
       "..                ...               ...  \n",
       "105              7.76               7.9  \n",
       "106              8.04              8.11  \n",
       "107                NR                NR  \n",
       "108              1.61              1.54  \n",
       "109                NR                NR  \n",
       "\n",
       "[110 rows x 14 columns]"
      ]
     },
     "execution_count": 3,
     "metadata": {},
     "output_type": "execute_result"
    }
   ],
   "source": [
    "dropout"
   ]
  },
  {
   "cell_type": "code",
   "execution_count": 4,
   "metadata": {},
   "outputs": [
    {
     "data": {
      "text/html": [
       "<div>\n",
       "<style scoped>\n",
       "    .dataframe tbody tr th:only-of-type {\n",
       "        vertical-align: middle;\n",
       "    }\n",
       "\n",
       "    .dataframe tbody tr th {\n",
       "        vertical-align: top;\n",
       "    }\n",
       "\n",
       "    .dataframe thead th {\n",
       "        text-align: right;\n",
       "    }\n",
       "</style>\n",
       "<table border=\"1\" class=\"dataframe\">\n",
       "  <thead>\n",
       "    <tr style=\"text-align: right;\">\n",
       "      <th></th>\n",
       "      <th>State_UT</th>\n",
       "      <th>year</th>\n",
       "      <th>Primary_Boys</th>\n",
       "      <th>Primary_Girls</th>\n",
       "      <th>Primary_Total</th>\n",
       "      <th>Upper Primary_Boys</th>\n",
       "      <th>Upper Primary_Girls</th>\n",
       "      <th>Upper Primary_Total</th>\n",
       "      <th>Secondary _Boys</th>\n",
       "      <th>Secondary _Girls</th>\n",
       "      <th>Secondary _Total</th>\n",
       "      <th>HrSecondary_Boys</th>\n",
       "      <th>HrSecondary_Girls</th>\n",
       "      <th>HrSecondary_Total</th>\n",
       "    </tr>\n",
       "  </thead>\n",
       "  <tbody>\n",
       "    <tr>\n",
       "      <th>0</th>\n",
       "      <td>A &amp; N Islands</td>\n",
       "      <td>2012-13</td>\n",
       "      <td>0.83</td>\n",
       "      <td>0.51</td>\n",
       "      <td>0.68</td>\n",
       "      <td>Uppe_r_Primary</td>\n",
       "      <td>1.09</td>\n",
       "      <td>1.23</td>\n",
       "      <td>5.57</td>\n",
       "      <td>5.55</td>\n",
       "      <td>5.56</td>\n",
       "      <td>17.66</td>\n",
       "      <td>10.15</td>\n",
       "      <td>14.14</td>\n",
       "    </tr>\n",
       "    <tr>\n",
       "      <th>1</th>\n",
       "      <td>A &amp; N Islands</td>\n",
       "      <td>2013-14</td>\n",
       "      <td>1.35</td>\n",
       "      <td>1.06</td>\n",
       "      <td>1.21</td>\n",
       "      <td>NR</td>\n",
       "      <td>1.54</td>\n",
       "      <td>0.51</td>\n",
       "      <td>8.36</td>\n",
       "      <td>5.98</td>\n",
       "      <td>7.2</td>\n",
       "      <td>18.94</td>\n",
       "      <td>12.2</td>\n",
       "      <td>15.87</td>\n",
       "    </tr>\n",
       "    <tr>\n",
       "      <th>2</th>\n",
       "      <td>A &amp; N Islands</td>\n",
       "      <td>2014-15</td>\n",
       "      <td>0.47</td>\n",
       "      <td>0.55</td>\n",
       "      <td>0.51</td>\n",
       "      <td>1.44</td>\n",
       "      <td>1.95</td>\n",
       "      <td>1.69</td>\n",
       "      <td>11.47</td>\n",
       "      <td>8.16</td>\n",
       "      <td>9.87</td>\n",
       "      <td>21.05</td>\n",
       "      <td>12.21</td>\n",
       "      <td>16.93</td>\n",
       "    </tr>\n",
       "    <tr>\n",
       "      <th>3</th>\n",
       "      <td>Andhra Pradesh</td>\n",
       "      <td>2012-13</td>\n",
       "      <td>3.3</td>\n",
       "      <td>3.05</td>\n",
       "      <td>3.18</td>\n",
       "      <td>3.21</td>\n",
       "      <td>3.51</td>\n",
       "      <td>3.36</td>\n",
       "      <td>12.21</td>\n",
       "      <td>13.25</td>\n",
       "      <td>12.72</td>\n",
       "      <td>2.66</td>\n",
       "      <td>NR</td>\n",
       "      <td>0.35</td>\n",
       "    </tr>\n",
       "    <tr>\n",
       "      <th>4</th>\n",
       "      <td>Andhra Pradesh</td>\n",
       "      <td>2013-14</td>\n",
       "      <td>4.31</td>\n",
       "      <td>4.39</td>\n",
       "      <td>4.35</td>\n",
       "      <td>3.46</td>\n",
       "      <td>4.12</td>\n",
       "      <td>3.78</td>\n",
       "      <td>11.95</td>\n",
       "      <td>13.37</td>\n",
       "      <td>12.65</td>\n",
       "      <td>12.65</td>\n",
       "      <td>10.85</td>\n",
       "      <td>11.79</td>\n",
       "    </tr>\n",
       "  </tbody>\n",
       "</table>\n",
       "</div>"
      ],
      "text/plain": [
       "         State_UT     year Primary_Boys Primary_Girls Primary_Total  \\\n",
       "0   A & N Islands  2012-13         0.83          0.51          0.68   \n",
       "1   A & N Islands  2013-14         1.35          1.06          1.21   \n",
       "2   A & N Islands  2014-15         0.47          0.55          0.51   \n",
       "3  Andhra Pradesh  2012-13          3.3          3.05          3.18   \n",
       "4  Andhra Pradesh  2013-14         4.31          4.39          4.35   \n",
       "\n",
       "  Upper Primary_Boys Upper Primary_Girls Upper Primary_Total Secondary _Boys  \\\n",
       "0     Uppe_r_Primary                1.09                1.23            5.57   \n",
       "1                 NR                1.54                0.51            8.36   \n",
       "2               1.44                1.95                1.69           11.47   \n",
       "3               3.21                3.51                3.36           12.21   \n",
       "4               3.46                4.12                3.78           11.95   \n",
       "\n",
       "  Secondary _Girls Secondary _Total HrSecondary_Boys HrSecondary_Girls  \\\n",
       "0             5.55             5.56            17.66             10.15   \n",
       "1             5.98              7.2            18.94              12.2   \n",
       "2             8.16             9.87            21.05             12.21   \n",
       "3            13.25            12.72             2.66                NR   \n",
       "4            13.37            12.65            12.65             10.85   \n",
       "\n",
       "  HrSecondary_Total  \n",
       "0             14.14  \n",
       "1             15.87  \n",
       "2             16.93  \n",
       "3              0.35  \n",
       "4             11.79  "
      ]
     },
     "execution_count": 4,
     "metadata": {},
     "output_type": "execute_result"
    }
   ],
   "source": [
    "dropout.head()"
   ]
  },
  {
   "cell_type": "code",
   "execution_count": 5,
   "metadata": {},
   "outputs": [
    {
     "data": {
      "text/html": [
       "<div>\n",
       "<style scoped>\n",
       "    .dataframe tbody tr th:only-of-type {\n",
       "        vertical-align: middle;\n",
       "    }\n",
       "\n",
       "    .dataframe tbody tr th {\n",
       "        vertical-align: top;\n",
       "    }\n",
       "\n",
       "    .dataframe thead th {\n",
       "        text-align: right;\n",
       "    }\n",
       "</style>\n",
       "<table border=\"1\" class=\"dataframe\">\n",
       "  <thead>\n",
       "    <tr style=\"text-align: right;\">\n",
       "      <th></th>\n",
       "      <th>State_UT</th>\n",
       "      <th>year</th>\n",
       "      <th>Primary_Boys</th>\n",
       "      <th>Primary_Girls</th>\n",
       "      <th>Primary_Total</th>\n",
       "      <th>Upper Primary_Boys</th>\n",
       "      <th>Upper Primary_Girls</th>\n",
       "      <th>Upper Primary_Total</th>\n",
       "      <th>Secondary _Boys</th>\n",
       "      <th>Secondary _Girls</th>\n",
       "      <th>Secondary _Total</th>\n",
       "      <th>HrSecondary_Boys</th>\n",
       "      <th>HrSecondary_Girls</th>\n",
       "      <th>HrSecondary_Total</th>\n",
       "    </tr>\n",
       "  </thead>\n",
       "  <tbody>\n",
       "    <tr>\n",
       "      <th>105</th>\n",
       "      <td>West Bengal</td>\n",
       "      <td>2013-14</td>\n",
       "      <td>3.44</td>\n",
       "      <td>2.37</td>\n",
       "      <td>2.91</td>\n",
       "      <td>5.63</td>\n",
       "      <td>3.1</td>\n",
       "      <td>4.31</td>\n",
       "      <td>16.73</td>\n",
       "      <td>19.77</td>\n",
       "      <td>18.34</td>\n",
       "      <td>8.03</td>\n",
       "      <td>7.76</td>\n",
       "      <td>7.9</td>\n",
       "    </tr>\n",
       "    <tr>\n",
       "      <th>106</th>\n",
       "      <td>West Bengal</td>\n",
       "      <td>2014-15</td>\n",
       "      <td>2.13</td>\n",
       "      <td>0.79</td>\n",
       "      <td>1.47</td>\n",
       "      <td>5.84</td>\n",
       "      <td>2.88</td>\n",
       "      <td>4.3</td>\n",
       "      <td>16.33</td>\n",
       "      <td>19.06</td>\n",
       "      <td>17.8</td>\n",
       "      <td>8.18</td>\n",
       "      <td>8.04</td>\n",
       "      <td>8.11</td>\n",
       "    </tr>\n",
       "    <tr>\n",
       "      <th>107</th>\n",
       "      <td>All India</td>\n",
       "      <td>2012-13</td>\n",
       "      <td>4.68</td>\n",
       "      <td>4.66</td>\n",
       "      <td>4.67</td>\n",
       "      <td>2.3</td>\n",
       "      <td>4.01</td>\n",
       "      <td>3.13</td>\n",
       "      <td>14.54</td>\n",
       "      <td>14.54</td>\n",
       "      <td>14.54</td>\n",
       "      <td>NR</td>\n",
       "      <td>NR</td>\n",
       "      <td>NR</td>\n",
       "    </tr>\n",
       "    <tr>\n",
       "      <th>108</th>\n",
       "      <td>All India</td>\n",
       "      <td>2013-14</td>\n",
       "      <td>4.53</td>\n",
       "      <td>4.14</td>\n",
       "      <td>4.34</td>\n",
       "      <td>3.09</td>\n",
       "      <td>4.49</td>\n",
       "      <td>3.77</td>\n",
       "      <td>17.93</td>\n",
       "      <td>17.79</td>\n",
       "      <td>17.86</td>\n",
       "      <td>1.48</td>\n",
       "      <td>1.61</td>\n",
       "      <td>1.54</td>\n",
       "    </tr>\n",
       "    <tr>\n",
       "      <th>109</th>\n",
       "      <td>All India</td>\n",
       "      <td>2014-15</td>\n",
       "      <td>4.36</td>\n",
       "      <td>3.88</td>\n",
       "      <td>4.13</td>\n",
       "      <td>3.49</td>\n",
       "      <td>4.6</td>\n",
       "      <td>4.03</td>\n",
       "      <td>17.21</td>\n",
       "      <td>16.88</td>\n",
       "      <td>17.06</td>\n",
       "      <td>0.25</td>\n",
       "      <td>NR</td>\n",
       "      <td>NR</td>\n",
       "    </tr>\n",
       "  </tbody>\n",
       "</table>\n",
       "</div>"
      ],
      "text/plain": [
       "        State_UT     year Primary_Boys Primary_Girls Primary_Total  \\\n",
       "105  West Bengal  2013-14         3.44          2.37          2.91   \n",
       "106  West Bengal  2014-15         2.13          0.79          1.47   \n",
       "107    All India  2012-13         4.68          4.66          4.67   \n",
       "108    All India  2013-14         4.53          4.14          4.34   \n",
       "109    All India  2014-15         4.36          3.88          4.13   \n",
       "\n",
       "    Upper Primary_Boys Upper Primary_Girls Upper Primary_Total  \\\n",
       "105               5.63                 3.1                4.31   \n",
       "106               5.84                2.88                 4.3   \n",
       "107                2.3                4.01                3.13   \n",
       "108               3.09                4.49                3.77   \n",
       "109               3.49                 4.6                4.03   \n",
       "\n",
       "    Secondary _Boys Secondary _Girls Secondary _Total HrSecondary_Boys  \\\n",
       "105           16.73            19.77            18.34             8.03   \n",
       "106           16.33            19.06             17.8             8.18   \n",
       "107           14.54            14.54            14.54               NR   \n",
       "108           17.93            17.79            17.86             1.48   \n",
       "109           17.21            16.88            17.06             0.25   \n",
       "\n",
       "    HrSecondary_Girls HrSecondary_Total  \n",
       "105              7.76               7.9  \n",
       "106              8.04              8.11  \n",
       "107                NR                NR  \n",
       "108              1.61              1.54  \n",
       "109                NR                NR  "
      ]
     },
     "execution_count": 5,
     "metadata": {},
     "output_type": "execute_result"
    }
   ],
   "source": [
    "dropout.tail()"
   ]
  },
  {
   "cell_type": "code",
   "execution_count": 6,
   "metadata": {},
   "outputs": [
    {
     "data": {
      "text/plain": [
       "(110, 14)"
      ]
     },
     "execution_count": 6,
     "metadata": {},
     "output_type": "execute_result"
    }
   ],
   "source": [
    "dropout.shape"
   ]
  },
  {
   "cell_type": "code",
   "execution_count": 7,
   "metadata": {},
   "outputs": [
    {
     "data": {
      "text/html": [
       "<div>\n",
       "<style scoped>\n",
       "    .dataframe tbody tr th:only-of-type {\n",
       "        vertical-align: middle;\n",
       "    }\n",
       "\n",
       "    .dataframe tbody tr th {\n",
       "        vertical-align: top;\n",
       "    }\n",
       "\n",
       "    .dataframe thead th {\n",
       "        text-align: right;\n",
       "    }\n",
       "</style>\n",
       "<table border=\"1\" class=\"dataframe\">\n",
       "  <thead>\n",
       "    <tr style=\"text-align: right;\">\n",
       "      <th></th>\n",
       "      <th>State_UT</th>\n",
       "      <th>year</th>\n",
       "      <th>Primary_Boys</th>\n",
       "      <th>Primary_Girls</th>\n",
       "      <th>Primary_Total</th>\n",
       "      <th>Upper Primary_Boys</th>\n",
       "      <th>Upper Primary_Girls</th>\n",
       "      <th>Upper Primary_Total</th>\n",
       "      <th>Secondary _Boys</th>\n",
       "      <th>Secondary _Girls</th>\n",
       "      <th>Secondary _Total</th>\n",
       "      <th>HrSecondary_Boys</th>\n",
       "      <th>HrSecondary_Girls</th>\n",
       "      <th>HrSecondary_Total</th>\n",
       "    </tr>\n",
       "  </thead>\n",
       "  <tbody>\n",
       "    <tr>\n",
       "      <th>count</th>\n",
       "      <td>110</td>\n",
       "      <td>110</td>\n",
       "      <td>110</td>\n",
       "      <td>110</td>\n",
       "      <td>110</td>\n",
       "      <td>110</td>\n",
       "      <td>110</td>\n",
       "      <td>110</td>\n",
       "      <td>110</td>\n",
       "      <td>110</td>\n",
       "      <td>110</td>\n",
       "      <td>110</td>\n",
       "      <td>110</td>\n",
       "      <td>110</td>\n",
       "    </tr>\n",
       "    <tr>\n",
       "      <th>unique</th>\n",
       "      <td>37</td>\n",
       "      <td>3</td>\n",
       "      <td>93</td>\n",
       "      <td>87</td>\n",
       "      <td>87</td>\n",
       "      <td>91</td>\n",
       "      <td>97</td>\n",
       "      <td>96</td>\n",
       "      <td>106</td>\n",
       "      <td>107</td>\n",
       "      <td>106</td>\n",
       "      <td>81</td>\n",
       "      <td>76</td>\n",
       "      <td>78</td>\n",
       "    </tr>\n",
       "    <tr>\n",
       "      <th>top</th>\n",
       "      <td>Kerala</td>\n",
       "      <td>2014-15</td>\n",
       "      <td>NR</td>\n",
       "      <td>NR</td>\n",
       "      <td>NR</td>\n",
       "      <td>NR</td>\n",
       "      <td>NR</td>\n",
       "      <td>NR</td>\n",
       "      <td>NR</td>\n",
       "      <td>NR</td>\n",
       "      <td>NR</td>\n",
       "      <td>NR</td>\n",
       "      <td>NR</td>\n",
       "      <td>NR</td>\n",
       "    </tr>\n",
       "    <tr>\n",
       "      <th>freq</th>\n",
       "      <td>3</td>\n",
       "      <td>37</td>\n",
       "      <td>15</td>\n",
       "      <td>15</td>\n",
       "      <td>17</td>\n",
       "      <td>16</td>\n",
       "      <td>8</td>\n",
       "      <td>9</td>\n",
       "      <td>4</td>\n",
       "      <td>4</td>\n",
       "      <td>4</td>\n",
       "      <td>28</td>\n",
       "      <td>34</td>\n",
       "      <td>31</td>\n",
       "    </tr>\n",
       "  </tbody>\n",
       "</table>\n",
       "</div>"
      ],
      "text/plain": [
       "       State_UT     year Primary_Boys Primary_Girls Primary_Total  \\\n",
       "count       110      110          110           110           110   \n",
       "unique       37        3           93            87            87   \n",
       "top      Kerala  2014-15           NR            NR            NR   \n",
       "freq          3       37           15            15            17   \n",
       "\n",
       "       Upper Primary_Boys Upper Primary_Girls Upper Primary_Total  \\\n",
       "count                 110                 110                 110   \n",
       "unique                 91                  97                  96   \n",
       "top                    NR                  NR                  NR   \n",
       "freq                   16                   8                   9   \n",
       "\n",
       "       Secondary _Boys Secondary _Girls Secondary _Total HrSecondary_Boys  \\\n",
       "count              110              110              110              110   \n",
       "unique             106              107              106               81   \n",
       "top                 NR               NR               NR               NR   \n",
       "freq                 4                4                4               28   \n",
       "\n",
       "       HrSecondary_Girls HrSecondary_Total  \n",
       "count                110               110  \n",
       "unique                76                78  \n",
       "top                   NR                NR  \n",
       "freq                  34                31  "
      ]
     },
     "execution_count": 7,
     "metadata": {},
     "output_type": "execute_result"
    }
   ],
   "source": [
    "dropout.describe()"
   ]
  },
  {
   "cell_type": "code",
   "execution_count": 8,
   "metadata": {},
   "outputs": [
    {
     "data": {
      "text/plain": [
       "State_UT               object\n",
       "year                   object\n",
       "Primary_Boys           object\n",
       "Primary_Girls          object\n",
       "Primary_Total          object\n",
       "Upper Primary_Boys     object\n",
       "Upper Primary_Girls    object\n",
       "Upper Primary_Total    object\n",
       "Secondary _Boys        object\n",
       "Secondary _Girls       object\n",
       "Secondary _Total       object\n",
       "HrSecondary_Boys       object\n",
       "HrSecondary_Girls      object\n",
       "HrSecondary_Total      object\n",
       "dtype: object"
      ]
     },
     "execution_count": 8,
     "metadata": {},
     "output_type": "execute_result"
    }
   ],
   "source": [
    "dropout.dtypes"
   ]
  },
  {
   "cell_type": "code",
   "execution_count": 9,
   "metadata": {},
   "outputs": [],
   "source": [
    "State_UT = dropout['State_UT']"
   ]
  },
  {
   "cell_type": "code",
   "execution_count": 10,
   "metadata": {},
   "outputs": [],
   "source": [
    "dropout = dropout[['Primary_Boys','Primary_Girls','Primary_Total','Upper Primary_Boys','Upper Primary_Girls','Upper Primary_Total'\n",
    "        ,'Secondary _Boys','Secondary _Girls','Secondary _Total','HrSecondary_Boys','HrSecondary_Girls',\n",
    "        'HrSecondary_Total']].transform(pd.to_numeric, errors='coerce')"
   ]
  },
  {
   "cell_type": "code",
   "execution_count": 11,
   "metadata": {},
   "outputs": [],
   "source": [
    "dropout['State_UT']= State_UT"
   ]
  },
  {
   "cell_type": "code",
   "execution_count": 12,
   "metadata": {},
   "outputs": [
    {
     "data": {
      "text/plain": [
       "0       True\n",
       "1       True\n",
       "2      False\n",
       "3      False\n",
       "4      False\n",
       "       ...  \n",
       "105    False\n",
       "106    False\n",
       "107    False\n",
       "108    False\n",
       "109    False\n",
       "Name: Upper Primary_Boys, Length: 110, dtype: bool"
      ]
     },
     "execution_count": 12,
     "metadata": {},
     "output_type": "execute_result"
    }
   ],
   "source": [
    "dropout['Upper Primary_Boys'].isnull()"
   ]
  },
  {
   "cell_type": "markdown",
   "metadata": {},
   "source": [
    "-Percentage of Primary School students dropout in each State"
   ]
  },
  {
   "cell_type": "code",
   "execution_count": 13,
   "metadata": {},
   "outputs": [
    {
     "data": {
      "text/plain": [
       "State_UT\n",
       "A & N Islands            2.40\n",
       "All India               13.14\n",
       "Andhra Pradesh          14.25\n",
       "Arunachal Pradesh       36.87\n",
       "Assam                   29.04\n",
       "Bihar                    2.09\n",
       "Chandigarh               0.00\n",
       "Chhattisgarh             8.47\n",
       "Dadra & Nagar Haveli     3.04\n",
       "Daman & Diu              1.96\n",
       "Delhi                    0.00\n",
       "Goa                      0.93\n",
       "Gujarat                  2.39\n",
       "Haryana                  7.31\n",
       "Himachal Pradesh         1.55\n",
       "Jammu & Kashmir         18.55\n",
       "Jharkhand               19.10\n",
       "Karnataka                7.31\n",
       "Kerala                   0.00\n",
       "Lakshadweep              2.50\n",
       "Madhya Pradesh          22.84\n",
       "Maharashtra              2.78\n",
       "Manipur                 37.52\n",
       "Meghalaya               29.94\n",
       "Mizoram                 47.17\n",
       "Nagaland                32.09\n",
       "Odisha                   9.36\n",
       "Puducherry               1.37\n",
       "Punjab                   6.33\n",
       "Rajasthan               21.38\n",
       "Sikkim                  10.44\n",
       "Tamil Nadu               4.52\n",
       "Telangana                7.89\n",
       "Tripura                  7.08\n",
       "Uttar Pradesh           25.94\n",
       "Uttarakhand              8.27\n",
       "West Bengal             10.68\n",
       "Name: Primary_Total, dtype: float64"
      ]
     },
     "execution_count": 13,
     "metadata": {},
     "output_type": "execute_result"
    }
   ],
   "source": [
    "    primary_school_state = dropout.groupby(\"State_UT\")[\"Primary_Total\"].sum()\n",
    "    primary_school_state"
   ]
  },
  {
   "cell_type": "code",
   "execution_count": 14,
   "metadata": {},
   "outputs": [
    {
     "data": {
      "image/png": "[encoded data removed]",
      "text/plain": [
       "<Figure size 432x288 with 1 Axes>"
      ]
     },
     "metadata": {
      "needs_background": "light"
     },
     "output_type": "display_data"
    }
   ],
   "source": [
    "primary_school_state.plot(kind = 'bar')\n",
    "plt.savefig('primary.png',dpi = 300,bbox_inches='tight')"
   ]
  },
  {
   "cell_type": "markdown",
   "metadata": {},
   "source": [
    "> Conclusion:  **Mizoram** has Highest Percentage in primary school's students dropout.\n"
   ]
  },
  {
   "cell_type": "markdown",
   "metadata": {},
   "source": [
    "---"
   ]
  },
  {
   "cell_type": "markdown",
   "metadata": {},
   "source": [
    "2. The state that has maximum dropout in Upper primary school"
   ]
  },
  {
   "cell_type": "code",
   "execution_count": 15,
   "metadata": {},
   "outputs": [
    {
     "data": {
      "text/plain": [
       "State_UT\n",
       "A & N Islands            3.43\n",
       "All India               10.93\n",
       "Andhra Pradesh          12.34\n",
       "Arunachal Pradesh       19.77\n",
       "Assam                   24.76\n",
       "Bihar                    7.06\n",
       "Chandigarh               1.62\n",
       "Chhattisgarh            15.07\n",
       "Dadra & Nagar Haveli    11.53\n",
       "Daman & Diu              6.67\n",
       "Delhi                    3.54\n",
       "Goa                      0.07\n",
       "Gujarat                 17.16\n",
       "Haryana                  8.82\n",
       "Himachal Pradesh         2.16\n",
       "Jammu & Kashmir         15.26\n",
       "Jharkhand               21.88\n",
       "Karnataka               11.41\n",
       "Kerala                   0.00\n",
       "Lakshadweep              4.93\n",
       "Madhya Pradesh          29.43\n",
       "Maharashtra              4.14\n",
       "Manipur                 17.28\n",
       "Meghalaya               21.21\n",
       "Mizoram                 30.08\n",
       "Nagaland                35.61\n",
       "Odisha                  10.42\n",
       "Puducherry               1.84\n",
       "Punjab                   8.85\n",
       "Rajasthan               13.52\n",
       "Sikkim                   9.86\n",
       "Tamil Nadu               5.76\n",
       "Telangana                7.01\n",
       "Tripura                  7.79\n",
       "Uttar Pradesh            4.29\n",
       "Uttarakhand              3.00\n",
       "West Bengal             13.79\n",
       "Name: Upper Primary_Total, dtype: float64"
      ]
     },
     "execution_count": 15,
     "metadata": {},
     "output_type": "execute_result"
    }
   ],
   "source": [
    "upper_primary = dropout.groupby(\"State_UT\")[\"Upper Primary_Total\"].sum()\n",
    "upper_primary"
   ]
  },
  {
   "cell_type": "code",
   "execution_count": 23,
   "metadata": {},
   "outputs": [
    {
     "data": {
      "image/png": "[encoded data removed]",
      "text/plain": [
       "<Figure size 432x288 with 1 Axes>"
      ]
     },
     "metadata": {
      "needs_background": "light"
     },
     "output_type": "display_data"
    }
   ],
   "source": [
    "upper_primary.plot(kind = 'bar',legend= False)\n",
    "plt.savefig('upper.png',dpi = 300,bbox_inches='tight')"
   ]
  },
  {
   "cell_type": "markdown",
   "metadata": {},
   "source": [
    "> Comclusions: **Nagaland** has Highest Percentage in **Upper primary school's** students dropout.\n",
    "---"
   ]
  },
  {
   "cell_type": "markdown",
   "metadata": {},
   "source": [
    "3. The state that has maximum dropout in Secondary school"
   ]
  },
  {
   "cell_type": "code",
   "execution_count": 17,
   "metadata": {},
   "outputs": [
    {
     "data": {
      "text/plain": [
       "State_UT\n",
       "A & N Islands            22.63\n",
       "All India                49.46\n",
       "Andhra Pradesh           41.08\n",
       "Arunachal Pradesh        44.53\n",
       "Assam                    84.26\n",
       "Bihar                    81.37\n",
       "Chandigarh                0.00\n",
       "Chhattisgarh             59.53\n",
       "Dadra & Nagar Haveli     69.77\n",
       "Daman & Diu              63.65\n",
       "Delhi                    26.03\n",
       "Goa                      28.69\n",
       "Gujarat                  60.20\n",
       "Haryana                  37.38\n",
       "Himachal Pradesh         23.53\n",
       "Jammu & Kashmir          49.97\n",
       "Jharkhand                65.65\n",
       "Karnataka                93.67\n",
       "Kerala                   36.23\n",
       "Lakshadweep              22.47\n",
       "Madhya Pradesh           64.87\n",
       "Maharashtra              43.54\n",
       "Manipur                  37.94\n",
       "Meghalaya                71.30\n",
       "Mizoram                  62.00\n",
       "Nagaland                 79.85\n",
       "Odisha                  128.90\n",
       "Puducherry               41.64\n",
       "Punjab                   27.49\n",
       "Rajasthan                45.90\n",
       "Sikkim                   38.01\n",
       "Tamil Nadu               30.50\n",
       "Telangana                32.96\n",
       "Tripura                  79.01\n",
       "Uttar Pradesh            17.52\n",
       "Uttarakhand              28.78\n",
       "West Bengal              53.44\n",
       "Name: Secondary _Total, dtype: float64"
      ]
     },
     "execution_count": 17,
     "metadata": {},
     "output_type": "execute_result"
    }
   ],
   "source": [
    "secondary = dropout.groupby(\"State_UT\")[\"Secondary _Total\"].sum()\n",
    "secondary"
   ]
  },
  {
   "cell_type": "code",
   "execution_count": 18,
   "metadata": {},
   "outputs": [
    {
     "data": {
      "image/png": "[encoded data removed]",
      "text/plain": [
       "<Figure size 432x288 with 1 Axes>"
      ]
     },
     "metadata": {
      "needs_background": "light"
     },
     "output_type": "display_data"
    }
   ],
   "source": [
    "secondary.plot(kind = 'bar')\n",
    "plt.savefig('secondary.png',dpi = 300,bbox_inches='tight')"
   ]
  },
  {
   "cell_type": "markdown",
   "metadata": {},
   "source": [
    "> Conclusions: **Nagaland** has Highest Percentage in **Secondary** school's students dropout."
   ]
  },
  {
   "cell_type": "markdown",
   "metadata": {},
   "source": [
    "4. The state that has maximum dropout in Higher Secondary school"
   ]
  },
  {
   "cell_type": "code",
   "execution_count": 19,
   "metadata": {},
   "outputs": [
    {
     "data": {
      "text/plain": [
       "State_UT\n",
       "A & N Islands           46.94\n",
       "All India                1.54\n",
       "Andhra Pradesh          12.14\n",
       "Arunachal Pradesh       40.60\n",
       "Assam                   11.93\n",
       "Bihar                    0.00\n",
       "Chandigarh              35.48\n",
       "Chhattisgarh             2.76\n",
       "Dadra & Nagar Haveli    25.36\n",
       "Daman & Diu             51.60\n",
       "Delhi                   48.04\n",
       "Goa                     38.53\n",
       "Gujarat                 15.33\n",
       "Haryana                  7.93\n",
       "Himachal Pradesh        23.50\n",
       "Jammu & Kashmir         30.95\n",
       "Jharkhand                3.41\n",
       "Karnataka               17.29\n",
       "Kerala                   6.87\n",
       "Lakshadweep             12.53\n",
       "Madhya Pradesh           1.55\n",
       "Maharashtra              8.37\n",
       "Manipur                 11.13\n",
       "Meghalaya                0.00\n",
       "Mizoram                  6.91\n",
       "Nagaland                39.45\n",
       "Odisha                   0.00\n",
       "Puducherry              20.91\n",
       "Punjab                  19.92\n",
       "Rajasthan                0.00\n",
       "Sikkim                  32.77\n",
       "Tamil Nadu               9.72\n",
       "Telangana               14.20\n",
       "Tripura                 26.91\n",
       "Uttar Pradesh            2.10\n",
       "Uttarakhand              4.60\n",
       "West Bengal             24.14\n",
       "Name: HrSecondary_Total, dtype: float64"
      ]
     },
     "execution_count": 19,
     "metadata": {},
     "output_type": "execute_result"
    }
   ],
   "source": [
    "higher_secondary = dropout.groupby(\"State_UT\")[\"HrSecondary_Total\"].sum()\n",
    "higher_secondary"
   ]
  },
  {
   "cell_type": "code",
   "execution_count": 20,
   "metadata": {},
   "outputs": [
    {
     "data": {
      "image/png": "[encoded data removed]",
      "text/plain": [
       "<Figure size 432x288 with 1 Axes>"
      ]
     },
     "metadata": {
      "needs_background": "light"
     },
     "output_type": "display_data"
    }
   ],
   "source": [
    "higher_secondary.plot(kind = 'bar')\n",
    "plt.savefig('higher_secondary.png',dpi = 300,bbox_inches='tight')"
   ]
  },
  {
   "cell_type": "markdown",
   "metadata": {},
   "source": [
    "> Conclusions: **Daman & Diu** has Highest Percentage in **Higher Secondary school's** students dropout."
   ]
  }
 ],
 "metadata": {
  "kernelspec": {
   "display_name": "Python 3",
   "language": "python",
   "name": "python3"
  },
  "language_info": {
   "codemirror_mode": {
    "name": "ipython",
    "version": 3
   },
   "file_extension": ".py",
   "mimetype": "text/x-python",
   "name": "python",
   "nbconvert_exporter": "python",
   "pygments_lexer": "ipython3",
   "version": "3.8.0"
  }
 },
 "nbformat": 4,
 "nbformat_minor": 4
}
