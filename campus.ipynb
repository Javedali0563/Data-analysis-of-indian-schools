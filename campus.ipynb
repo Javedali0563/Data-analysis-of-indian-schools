{
 "cells": [
  {
   "cell_type": "markdown",
   "metadata": {},
   "source": [
    "## Importing the Module\n",
    "- Pandas to read csv and data manupluations\n",
    "- matplotlib for the visualization for the data"
   ]
  },
  {
   "cell_type": "code",
   "execution_count": 46,
   "metadata": {},
   "outputs": [],
   "source": [
    "import pandas as pd\n",
    "import matplotlib.pyplot as plt\n",
    "import numpy as np"
   ]
  },
  {
   "cell_type": "markdown",
   "metadata": {},
   "source": [
    "## Loading the data file"
   ]
  },
  {
   "cell_type": "code",
   "execution_count": 2,
   "metadata": {},
   "outputs": [],
   "source": [
    "df = pd.read_csv(\"data/percentage-of-schools-with-comps-2013-2016.csv\")"
   ]
  },
  {
   "cell_type": "markdown",
   "metadata": {},
   "source": [
    "## Lets look into the last ten row of the data\n",
    "### observations\n",
    "- India has only 10.36 percentage of primary school with campus in 2015-16😤, even wrost 9.25 in 2013-14. "
   ]
  },
  {
   "cell_type": "code",
   "execution_count": 9,
   "metadata": {},
   "outputs": [
    {
     "data": {
      "text/html": [
       "<div>\n",
       "<style scoped>\n",
       "    .dataframe tbody tr th:only-of-type {\n",
       "        vertical-align: middle;\n",
       "    }\n",
       "\n",
       "    .dataframe tbody tr th {\n",
       "        vertical-align: top;\n",
       "    }\n",
       "\n",
       "    .dataframe thead th {\n",
       "        text-align: right;\n",
       "    }\n",
       "</style>\n",
       "<table border=\"1\" class=\"dataframe\">\n",
       "  <thead>\n",
       "    <tr style=\"text-align: right;\">\n",
       "      <th></th>\n",
       "      <th>State_UT</th>\n",
       "      <th>year</th>\n",
       "      <th>Primary_Only</th>\n",
       "      <th>Primary_with_U_Primary</th>\n",
       "      <th>Primary_with_U_Primary_Sec_HrSec</th>\n",
       "      <th>U_Primary_Only</th>\n",
       "      <th>U_Primary_With_Sec_HrSec</th>\n",
       "      <th>Primary_with_U_Primary_Sec</th>\n",
       "      <th>U_Primary_With_Sec</th>\n",
       "      <th>Sec_Only</th>\n",
       "      <th>Sec_with_HrSec.</th>\n",
       "      <th>HrSec_Only</th>\n",
       "      <th>All Schools</th>\n",
       "    </tr>\n",
       "  </thead>\n",
       "  <tbody>\n",
       "    <tr>\n",
       "      <th>100</th>\n",
       "      <td>Uttar Pradesh</td>\n",
       "      <td>2015-16</td>\n",
       "      <td>6.67</td>\n",
       "      <td>29.88</td>\n",
       "      <td>56.49</td>\n",
       "      <td>17.15</td>\n",
       "      <td>56.03</td>\n",
       "      <td>36.18</td>\n",
       "      <td>26.81</td>\n",
       "      <td>16.23</td>\n",
       "      <td>24.11</td>\n",
       "      <td>28.57</td>\n",
       "      <td>13.31</td>\n",
       "    </tr>\n",
       "    <tr>\n",
       "      <th>101</th>\n",
       "      <td>Uttarakhand</td>\n",
       "      <td>2013-14</td>\n",
       "      <td>12.78</td>\n",
       "      <td>77.16</td>\n",
       "      <td>94.20</td>\n",
       "      <td>57.03</td>\n",
       "      <td>93.63</td>\n",
       "      <td>90.07</td>\n",
       "      <td>66.40</td>\n",
       "      <td>27.34</td>\n",
       "      <td>39.24</td>\n",
       "      <td>50.00</td>\n",
       "      <td>31.97</td>\n",
       "    </tr>\n",
       "    <tr>\n",
       "      <th>102</th>\n",
       "      <td>Uttarakhand</td>\n",
       "      <td>2014-15</td>\n",
       "      <td>13.17</td>\n",
       "      <td>76.76</td>\n",
       "      <td>94.78</td>\n",
       "      <td>57.34</td>\n",
       "      <td>94.39</td>\n",
       "      <td>92.72</td>\n",
       "      <td>67.08</td>\n",
       "      <td>24.89</td>\n",
       "      <td>48.25</td>\n",
       "      <td>61.54</td>\n",
       "      <td>32.97</td>\n",
       "    </tr>\n",
       "    <tr>\n",
       "      <th>103</th>\n",
       "      <td>Uttarakhand</td>\n",
       "      <td>2015-16</td>\n",
       "      <td>12.86</td>\n",
       "      <td>78.03</td>\n",
       "      <td>96.51</td>\n",
       "      <td>57.33</td>\n",
       "      <td>94.00</td>\n",
       "      <td>92.07</td>\n",
       "      <td>65.70</td>\n",
       "      <td>30.64</td>\n",
       "      <td>56.03</td>\n",
       "      <td>73.33</td>\n",
       "      <td>33.54</td>\n",
       "    </tr>\n",
       "    <tr>\n",
       "      <th>104</th>\n",
       "      <td>West Bengal</td>\n",
       "      <td>2013-14</td>\n",
       "      <td>3.94</td>\n",
       "      <td>34.84</td>\n",
       "      <td>67.19</td>\n",
       "      <td>7.93</td>\n",
       "      <td>74.34</td>\n",
       "      <td>54.02</td>\n",
       "      <td>42.04</td>\n",
       "      <td>0.00</td>\n",
       "      <td>0.00</td>\n",
       "      <td>54.55</td>\n",
       "      <td>10.77</td>\n",
       "    </tr>\n",
       "    <tr>\n",
       "      <th>105</th>\n",
       "      <td>West Bengal</td>\n",
       "      <td>2014-15</td>\n",
       "      <td>4.55</td>\n",
       "      <td>39.79</td>\n",
       "      <td>70.27</td>\n",
       "      <td>9.32</td>\n",
       "      <td>78.72</td>\n",
       "      <td>61.28</td>\n",
       "      <td>49.07</td>\n",
       "      <td>0.00</td>\n",
       "      <td>0.00</td>\n",
       "      <td>66.67</td>\n",
       "      <td>12.13</td>\n",
       "    </tr>\n",
       "    <tr>\n",
       "      <th>106</th>\n",
       "      <td>West Bengal</td>\n",
       "      <td>2015-16</td>\n",
       "      <td>4.69</td>\n",
       "      <td>41.56</td>\n",
       "      <td>75.71</td>\n",
       "      <td>9.97</td>\n",
       "      <td>79.93</td>\n",
       "      <td>63.91</td>\n",
       "      <td>50.49</td>\n",
       "      <td>0.00</td>\n",
       "      <td>100.00</td>\n",
       "      <td>66.67</td>\n",
       "      <td>12.67</td>\n",
       "    </tr>\n",
       "    <tr>\n",
       "      <th>107</th>\n",
       "      <td>All India</td>\n",
       "      <td>2013-14</td>\n",
       "      <td>9.25</td>\n",
       "      <td>42.14</td>\n",
       "      <td>82.67</td>\n",
       "      <td>18.22</td>\n",
       "      <td>76.50</td>\n",
       "      <td>64.69</td>\n",
       "      <td>59.25</td>\n",
       "      <td>44.80</td>\n",
       "      <td>39.31</td>\n",
       "      <td>26.65</td>\n",
       "      <td>24.08</td>\n",
       "    </tr>\n",
       "    <tr>\n",
       "      <th>108</th>\n",
       "      <td>All India</td>\n",
       "      <td>2014-15</td>\n",
       "      <td>10.32</td>\n",
       "      <td>44.39</td>\n",
       "      <td>81.96</td>\n",
       "      <td>19.40</td>\n",
       "      <td>79.86</td>\n",
       "      <td>62.66</td>\n",
       "      <td>68.11</td>\n",
       "      <td>51.27</td>\n",
       "      <td>50.26</td>\n",
       "      <td>47.96</td>\n",
       "      <td>26.42</td>\n",
       "    </tr>\n",
       "    <tr>\n",
       "      <th>109</th>\n",
       "      <td>All India</td>\n",
       "      <td>2015-16</td>\n",
       "      <td>10.36</td>\n",
       "      <td>45.46</td>\n",
       "      <td>79.06</td>\n",
       "      <td>19.78</td>\n",
       "      <td>82.04</td>\n",
       "      <td>68.67</td>\n",
       "      <td>68.40</td>\n",
       "      <td>53.05</td>\n",
       "      <td>54.05</td>\n",
       "      <td>55.72</td>\n",
       "      <td>27.31</td>\n",
       "    </tr>\n",
       "  </tbody>\n",
       "</table>\n",
       "</div>"
      ],
      "text/plain": [
       "          State_UT     year  Primary_Only  Primary_with_U_Primary  \\\n",
       "100  Uttar Pradesh  2015-16          6.67                   29.88   \n",
       "101    Uttarakhand  2013-14         12.78                   77.16   \n",
       "102    Uttarakhand  2014-15         13.17                   76.76   \n",
       "103    Uttarakhand  2015-16         12.86                   78.03   \n",
       "104    West Bengal  2013-14          3.94                   34.84   \n",
       "105    West Bengal  2014-15          4.55                   39.79   \n",
       "106    West Bengal  2015-16          4.69                   41.56   \n",
       "107      All India  2013-14          9.25                   42.14   \n",
       "108      All India  2014-15         10.32                   44.39   \n",
       "109      All India  2015-16         10.36                   45.46   \n",
       "\n",
       "     Primary_with_U_Primary_Sec_HrSec  U_Primary_Only  \\\n",
       "100                             56.49           17.15   \n",
       "101                             94.20           57.03   \n",
       "102                             94.78           57.34   \n",
       "103                             96.51           57.33   \n",
       "104                             67.19            7.93   \n",
       "105                             70.27            9.32   \n",
       "106                             75.71            9.97   \n",
       "107                             82.67           18.22   \n",
       "108                             81.96           19.40   \n",
       "109                             79.06           19.78   \n",
       "\n",
       "     U_Primary_With_Sec_HrSec  Primary_with_U_Primary_Sec  U_Primary_With_Sec  \\\n",
       "100                     56.03                       36.18               26.81   \n",
       "101                     93.63                       90.07               66.40   \n",
       "102                     94.39                       92.72               67.08   \n",
       "103                     94.00                       92.07               65.70   \n",
       "104                     74.34                       54.02               42.04   \n",
       "105                     78.72                       61.28               49.07   \n",
       "106                     79.93                       63.91               50.49   \n",
       "107                     76.50                       64.69               59.25   \n",
       "108                     79.86                       62.66               68.11   \n",
       "109                     82.04                       68.67               68.40   \n",
       "\n",
       "     Sec_Only  Sec_with_HrSec.  HrSec_Only  All Schools  \n",
       "100     16.23            24.11       28.57        13.31  \n",
       "101     27.34            39.24       50.00        31.97  \n",
       "102     24.89            48.25       61.54        32.97  \n",
       "103     30.64            56.03       73.33        33.54  \n",
       "104      0.00             0.00       54.55        10.77  \n",
       "105      0.00             0.00       66.67        12.13  \n",
       "106      0.00           100.00       66.67        12.67  \n",
       "107     44.80            39.31       26.65        24.08  \n",
       "108     51.27            50.26       47.96        26.42  \n",
       "109     53.05            54.05       55.72        27.31  "
      ]
     },
     "execution_count": 9,
     "metadata": {},
     "output_type": "execute_result"
    }
   ],
   "source": [
    "df.tail(10)"
   ]
  },
  {
   "cell_type": "markdown",
   "metadata": {},
   "source": [
    "## Lets find out the state which has least percentage of primary school having the campus in 2015-16 🤔\n",
    "### observation\n",
    "- So **Assam** has 1.08 which is least Percentage of primary school having the campus in 2015-16"
   ]
  },
  {
   "cell_type": "code",
   "execution_count": 17,
   "metadata": {},
   "outputs": [
    {
     "data": {
      "text/plain": [
       "9    Assam\n",
       "Name: State_UT, dtype: object"
      ]
     },
     "execution_count": 17,
     "metadata": {},
     "output_type": "execute_result"
    }
   ],
   "source": [
    "min_value = min(df['Primary_Only'])\n",
    "df['State_UT'].loc[df['Primary_Only'] == min_value]\n"
   ]
  },
  {
   "cell_type": "markdown",
   "metadata": {},
   "source": [
    "## Lets find out the the state which has maximum percentages 🤩 of primary school having the campus in 2015-16\n",
    "### observation \n",
    "- So **Lakshadweep** has maximum Percenatge "
   ]
  },
  {
   "cell_type": "code",
   "execution_count": 23,
   "metadata": {},
   "outputs": [
    {
     "data": {
      "text/plain": [
       "54    Lakshadweep\n",
       "55    Lakshadweep\n",
       "56    Lakshadweep\n",
       "Name: State_UT, dtype: object"
      ]
     },
     "execution_count": 23,
     "metadata": {},
     "output_type": "execute_result"
    }
   ],
   "source": [
    "max_value = max(df['Primary_Only'])\n",
    "df['State_UT'].loc[df['Primary_Only'] == max_value]"
   ]
  },
  {
   "cell_type": "markdown",
   "metadata": {},
   "source": [
    "## Lets compare 2014 and 2015 and keep eye on the progress of each state"
   ]
  },
  {
   "cell_type": "code",
   "execution_count": 41,
   "metadata": {},
   "outputs": [],
   "source": [
    "filt_14 = df['year'] == '2014-15'\n",
    "filt_15 = df['year'] == '2015-16'\n",
    "def extract_data(data):    #function to extract data and make list out of that.\n",
    "    new_data = []\n",
    "    for d in data:\n",
    "        new_data.append(d)\n",
    "    return new_data"
   ]
  },
  {
   "cell_type": "code",
   "execution_count": 43,
   "metadata": {},
   "outputs": [],
   "source": [
    "camp_14 = extract_data(df.loc[filt_14,'Primary_Only'])\n",
    "camp_15 = extract_data(df.loc[filt_15,'Primary_Only'])\n",
    "states = extract_data(df.loc[filt_15, 'State_UT'])"
   ]
  },
  {
   "cell_type": "code",
   "execution_count": 67,
   "metadata": {},
   "outputs": [
    {
     "data": {
      "text/plain": [
       "<matplotlib.legend.Legend at 0x1f7c1122eb0>"
      ]
     },
     "execution_count": 67,
     "metadata": {},
     "output_type": "execute_result"
    },
    {
     "data": {
      "image/png": "[encoded data removed]",
      "text/plain": [
       "<Figure size 1800x720 with 1 Axes>"
      ]
     },
     "metadata": {
      "needs_background": "light"
     },
     "output_type": "display_data"
    }
   ],
   "source": [
    "plt.figure(figsize=(25,10))\n",
    "x_indexes = np.arange(len(states))\n",
    "width = .4\n",
    "plt.bar(x_indexes,camp_14,width =width,label = '2014-15')\n",
    "plt.bar(x_indexes+width,camp_15,width=width,label = '2015-16')\n",
    "plt.xticks(ticks=x_indexes,labels = states,rotation = 35)\n",
    "plt.tight_layout()\n",
    "plt.legend()"
   ]
  }
 ],
 "metadata": {
  "kernelspec": {
   "display_name": "Python 3",
   "language": "python",
   "name": "python3"
  },
  "language_info": {
   "codemirror_mode": {
    "name": "ipython",
    "version": 3
   },
   "file_extension": ".py",
   "mimetype": "text/x-python",
   "name": "python",
   "nbconvert_exporter": "python",
   "pygments_lexer": "ipython3",
   "version": "3.8.0"
  }
 },
 "nbformat": 4,
 "nbformat_minor": 4
}
