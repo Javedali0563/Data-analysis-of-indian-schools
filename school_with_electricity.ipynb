{
 "cells": [
  {
   "cell_type": "markdown",
   "metadata": {},
   "source": [
    "## Importing the modules\n",
    "- pandas for read data from csv\n",
    "- matplotlib for visulazation of data\n",
    "- numpy for computing operation on dataframes"
   ]
  },
  {
   "cell_type": "code",
   "execution_count": 1,
   "metadata": {},
   "outputs": [],
   "source": [
    "import pandas as pd\n",
    "import matplotlib.pyplot as plt\n",
    "import numpy as np"
   ]
  },
  {
   "cell_type": "markdown",
   "metadata": {},
   "source": [
    "## Read data from csv"
   ]
  },
  {
   "cell_type": "code",
   "execution_count": 2,
   "metadata": {},
   "outputs": [
    {
     "data": {
      "text/html": [
       "<div>\n",
       "<style scoped>\n",
       "    .dataframe tbody tr th:only-of-type {\n",
       "        vertical-align: middle;\n",
       "    }\n",
       "\n",
       "    .dataframe tbody tr th {\n",
       "        vertical-align: top;\n",
       "    }\n",
       "\n",
       "    .dataframe thead th {\n",
       "        text-align: right;\n",
       "    }\n",
       "</style>\n",
       "<table border=\"1\" class=\"dataframe\">\n",
       "  <thead>\n",
       "    <tr style=\"text-align: right;\">\n",
       "      <th></th>\n",
       "      <th>State_UT</th>\n",
       "      <th>year</th>\n",
       "      <th>Primary_Only</th>\n",
       "      <th>Primary_with_U_Primary</th>\n",
       "      <th>Primary_with_U_Primary_Sec_HrSec</th>\n",
       "      <th>U_Primary_Only</th>\n",
       "      <th>U_Primary_With_Sec_HrSec</th>\n",
       "      <th>Primary_with_U_Primary_Sec</th>\n",
       "      <th>U_Primary_With_Sec</th>\n",
       "      <th>Sec_Only</th>\n",
       "      <th>Sec_with_HrSec.</th>\n",
       "      <th>HrSec_Only</th>\n",
       "      <th>All Schools</th>\n",
       "    </tr>\n",
       "  </thead>\n",
       "  <tbody>\n",
       "    <tr>\n",
       "      <th>0</th>\n",
       "      <td>Andaman &amp; Nicobar Islands</td>\n",
       "      <td>2013-14</td>\n",
       "      <td>82.42</td>\n",
       "      <td>96.05</td>\n",
       "      <td>100.00</td>\n",
       "      <td>0.0</td>\n",
       "      <td>100.00</td>\n",
       "      <td>100.00</td>\n",
       "      <td>0.00</td>\n",
       "      <td>0.00</td>\n",
       "      <td>100.00</td>\n",
       "      <td>0.00</td>\n",
       "      <td>88.86</td>\n",
       "    </tr>\n",
       "    <tr>\n",
       "      <th>1</th>\n",
       "      <td>Andaman &amp; Nicobar Islands</td>\n",
       "      <td>2014-15</td>\n",
       "      <td>80.72</td>\n",
       "      <td>96.30</td>\n",
       "      <td>100.00</td>\n",
       "      <td>100.0</td>\n",
       "      <td>100.00</td>\n",
       "      <td>100.00</td>\n",
       "      <td>0.00</td>\n",
       "      <td>0.00</td>\n",
       "      <td>100.00</td>\n",
       "      <td>0.00</td>\n",
       "      <td>88.89</td>\n",
       "    </tr>\n",
       "    <tr>\n",
       "      <th>2</th>\n",
       "      <td>Andaman &amp; Nicobar Islands</td>\n",
       "      <td>2015-16</td>\n",
       "      <td>82.11</td>\n",
       "      <td>97.62</td>\n",
       "      <td>100.00</td>\n",
       "      <td>0.0</td>\n",
       "      <td>100.00</td>\n",
       "      <td>100.00</td>\n",
       "      <td>0.00</td>\n",
       "      <td>0.00</td>\n",
       "      <td>100.00</td>\n",
       "      <td>0.00</td>\n",
       "      <td>90.10</td>\n",
       "    </tr>\n",
       "    <tr>\n",
       "      <th>3</th>\n",
       "      <td>Andhra Pradesh</td>\n",
       "      <td>2013-14</td>\n",
       "      <td>87.66</td>\n",
       "      <td>93.57</td>\n",
       "      <td>99.32</td>\n",
       "      <td>100.0</td>\n",
       "      <td>67.48</td>\n",
       "      <td>96.19</td>\n",
       "      <td>96.15</td>\n",
       "      <td>97.50</td>\n",
       "      <td>100.00</td>\n",
       "      <td>91.27</td>\n",
       "      <td>90.34</td>\n",
       "    </tr>\n",
       "    <tr>\n",
       "      <th>4</th>\n",
       "      <td>Andhra Pradesh</td>\n",
       "      <td>2014-15</td>\n",
       "      <td>91.08</td>\n",
       "      <td>94.70</td>\n",
       "      <td>100.00</td>\n",
       "      <td>100.0</td>\n",
       "      <td>86.11</td>\n",
       "      <td>97.60</td>\n",
       "      <td>97.11</td>\n",
       "      <td>93.55</td>\n",
       "      <td>83.33</td>\n",
       "      <td>93.21</td>\n",
       "      <td>92.76</td>\n",
       "    </tr>\n",
       "  </tbody>\n",
       "</table>\n",
       "</div>"
      ],
      "text/plain": [
       "                    State_UT     year  Primary_Only  Primary_with_U_Primary  \\\n",
       "0  Andaman & Nicobar Islands  2013-14         82.42                   96.05   \n",
       "1  Andaman & Nicobar Islands  2014-15         80.72                   96.30   \n",
       "2  Andaman & Nicobar Islands  2015-16         82.11                   97.62   \n",
       "3             Andhra Pradesh  2013-14         87.66                   93.57   \n",
       "4             Andhra Pradesh  2014-15         91.08                   94.70   \n",
       "\n",
       "   Primary_with_U_Primary_Sec_HrSec  U_Primary_Only  U_Primary_With_Sec_HrSec  \\\n",
       "0                            100.00             0.0                    100.00   \n",
       "1                            100.00           100.0                    100.00   \n",
       "2                            100.00             0.0                    100.00   \n",
       "3                             99.32           100.0                     67.48   \n",
       "4                            100.00           100.0                     86.11   \n",
       "\n",
       "   Primary_with_U_Primary_Sec  U_Primary_With_Sec  Sec_Only  Sec_with_HrSec.  \\\n",
       "0                      100.00                0.00      0.00           100.00   \n",
       "1                      100.00                0.00      0.00           100.00   \n",
       "2                      100.00                0.00      0.00           100.00   \n",
       "3                       96.19               96.15     97.50           100.00   \n",
       "4                       97.60               97.11     93.55            83.33   \n",
       "\n",
       "   HrSec_Only  All Schools  \n",
       "0        0.00        88.86  \n",
       "1        0.00        88.89  \n",
       "2        0.00        90.10  \n",
       "3       91.27        90.34  \n",
       "4       93.21        92.76  "
      ]
     },
     "execution_count": 2,
     "metadata": {},
     "output_type": "execute_result"
    }
   ],
   "source": [
    "elec = pd.read_csv('data/percentage-of-schools-with-electricity-2013-2016.csv')\n",
    "elec.head()"
   ]
  },
  {
   "cell_type": "markdown",
   "metadata": {},
   "source": [
    "## Now take a look on data and find some information about the all features"
   ]
  },
  {
   "cell_type": "code",
   "execution_count": 3,
   "metadata": {},
   "outputs": [
    {
     "data": {
      "text/plain": [
       "(110, 13)"
      ]
     },
     "execution_count": 3,
     "metadata": {},
     "output_type": "execute_result"
    }
   ],
   "source": [
    "elec.shape"
   ]
  },
  {
   "cell_type": "markdown",
   "metadata": {},
   "source": [
    "### 1. Data has 110 row and 13 features"
   ]
  },
  {
   "cell_type": "code",
   "execution_count": 4,
   "metadata": {},
   "outputs": [
    {
     "data": {
      "text/plain": [
       "State_UT                             object\n",
       "year                                 object\n",
       "Primary_Only                        float64\n",
       "Primary_with_U_Primary              float64\n",
       "Primary_with_U_Primary_Sec_HrSec    float64\n",
       "U_Primary_Only                      float64\n",
       "U_Primary_With_Sec_HrSec            float64\n",
       "Primary_with_U_Primary_Sec          float64\n",
       "U_Primary_With_Sec                  float64\n",
       "Sec_Only                            float64\n",
       "Sec_with_HrSec.                     float64\n",
       "HrSec_Only                          float64\n",
       "All Schools                         float64\n",
       "dtype: object"
      ]
     },
     "execution_count": 4,
     "metadata": {},
     "output_type": "execute_result"
    }
   ],
   "source": [
    "elec.dtypes"
   ]
  },
  {
   "cell_type": "markdown",
   "metadata": {},
   "source": [
    "### 2. Two of the features are strings(object) and rest are float."
   ]
  },
  {
   "cell_type": "code",
   "execution_count": 5,
   "metadata": {},
   "outputs": [
    {
     "data": {
      "text/html": [
       "<div>\n",
       "<style scoped>\n",
       "    .dataframe tbody tr th:only-of-type {\n",
       "        vertical-align: middle;\n",
       "    }\n",
       "\n",
       "    .dataframe tbody tr th {\n",
       "        vertical-align: top;\n",
       "    }\n",
       "\n",
       "    .dataframe thead th {\n",
       "        text-align: right;\n",
       "    }\n",
       "</style>\n",
       "<table border=\"1\" class=\"dataframe\">\n",
       "  <thead>\n",
       "    <tr style=\"text-align: right;\">\n",
       "      <th></th>\n",
       "      <th>Primary_Only</th>\n",
       "      <th>Primary_with_U_Primary</th>\n",
       "      <th>Primary_with_U_Primary_Sec_HrSec</th>\n",
       "      <th>U_Primary_Only</th>\n",
       "      <th>U_Primary_With_Sec_HrSec</th>\n",
       "      <th>Primary_with_U_Primary_Sec</th>\n",
       "      <th>U_Primary_With_Sec</th>\n",
       "      <th>Sec_Only</th>\n",
       "      <th>Sec_with_HrSec.</th>\n",
       "      <th>HrSec_Only</th>\n",
       "      <th>All Schools</th>\n",
       "    </tr>\n",
       "  </thead>\n",
       "  <tbody>\n",
       "    <tr>\n",
       "      <th>count</th>\n",
       "      <td>110.000000</td>\n",
       "      <td>110.000000</td>\n",
       "      <td>110.000000</td>\n",
       "      <td>110.000000</td>\n",
       "      <td>110.000000</td>\n",
       "      <td>110.000000</td>\n",
       "      <td>110.000000</td>\n",
       "      <td>110.000000</td>\n",
       "      <td>110.000000</td>\n",
       "      <td>110.000000</td>\n",
       "      <td>110.000000</td>\n",
       "    </tr>\n",
       "    <tr>\n",
       "      <th>mean</th>\n",
       "      <td>62.244545</td>\n",
       "      <td>78.447091</td>\n",
       "      <td>93.389273</td>\n",
       "      <td>70.377455</td>\n",
       "      <td>91.426091</td>\n",
       "      <td>83.350182</td>\n",
       "      <td>70.609364</td>\n",
       "      <td>53.934273</td>\n",
       "      <td>75.888182</td>\n",
       "      <td>74.648636</td>\n",
       "      <td>69.764273</td>\n",
       "    </tr>\n",
       "    <tr>\n",
       "      <th>std</th>\n",
       "      <td>36.828289</td>\n",
       "      <td>26.146967</td>\n",
       "      <td>17.697877</td>\n",
       "      <td>32.157024</td>\n",
       "      <td>17.448899</td>\n",
       "      <td>26.604536</td>\n",
       "      <td>35.725117</td>\n",
       "      <td>40.168495</td>\n",
       "      <td>36.671438</td>\n",
       "      <td>37.447975</td>\n",
       "      <td>30.433150</td>\n",
       "    </tr>\n",
       "    <tr>\n",
       "      <th>min</th>\n",
       "      <td>4.120000</td>\n",
       "      <td>11.170000</td>\n",
       "      <td>0.000000</td>\n",
       "      <td>0.000000</td>\n",
       "      <td>0.000000</td>\n",
       "      <td>0.000000</td>\n",
       "      <td>0.000000</td>\n",
       "      <td>0.000000</td>\n",
       "      <td>0.000000</td>\n",
       "      <td>0.000000</td>\n",
       "      <td>9.960000</td>\n",
       "    </tr>\n",
       "    <tr>\n",
       "      <th>25%</th>\n",
       "      <td>18.547500</td>\n",
       "      <td>60.885000</td>\n",
       "      <td>95.007500</td>\n",
       "      <td>45.715000</td>\n",
       "      <td>89.847500</td>\n",
       "      <td>79.127500</td>\n",
       "      <td>59.807500</td>\n",
       "      <td>0.000000</td>\n",
       "      <td>73.182500</td>\n",
       "      <td>67.147500</td>\n",
       "      <td>38.715000</td>\n",
       "    </tr>\n",
       "    <tr>\n",
       "      <th>50%</th>\n",
       "      <td>73.595000</td>\n",
       "      <td>91.175000</td>\n",
       "      <td>99.200000</td>\n",
       "      <td>83.465000</td>\n",
       "      <td>97.050000</td>\n",
       "      <td>95.360000</td>\n",
       "      <td>85.710000</td>\n",
       "      <td>60.790000</td>\n",
       "      <td>95.275000</td>\n",
       "      <td>93.405000</td>\n",
       "      <td>77.795000</td>\n",
       "    </tr>\n",
       "    <tr>\n",
       "      <th>75%</th>\n",
       "      <td>98.605000</td>\n",
       "      <td>99.707500</td>\n",
       "      <td>100.000000</td>\n",
       "      <td>100.000000</td>\n",
       "      <td>100.000000</td>\n",
       "      <td>99.960000</td>\n",
       "      <td>97.727500</td>\n",
       "      <td>94.497500</td>\n",
       "      <td>100.000000</td>\n",
       "      <td>100.000000</td>\n",
       "      <td>98.677500</td>\n",
       "    </tr>\n",
       "    <tr>\n",
       "      <th>max</th>\n",
       "      <td>100.000000</td>\n",
       "      <td>100.000000</td>\n",
       "      <td>100.000000</td>\n",
       "      <td>100.000000</td>\n",
       "      <td>100.000000</td>\n",
       "      <td>100.000000</td>\n",
       "      <td>100.000000</td>\n",
       "      <td>100.000000</td>\n",
       "      <td>100.000000</td>\n",
       "      <td>100.000000</td>\n",
       "      <td>100.000000</td>\n",
       "    </tr>\n",
       "  </tbody>\n",
       "</table>\n",
       "</div>"
      ],
      "text/plain": [
       "       Primary_Only  Primary_with_U_Primary  Primary_with_U_Primary_Sec_HrSec  \\\n",
       "count    110.000000              110.000000                        110.000000   \n",
       "mean      62.244545               78.447091                         93.389273   \n",
       "std       36.828289               26.146967                         17.697877   \n",
       "min        4.120000               11.170000                          0.000000   \n",
       "25%       18.547500               60.885000                         95.007500   \n",
       "50%       73.595000               91.175000                         99.200000   \n",
       "75%       98.605000               99.707500                        100.000000   \n",
       "max      100.000000              100.000000                        100.000000   \n",
       "\n",
       "       U_Primary_Only  U_Primary_With_Sec_HrSec  Primary_with_U_Primary_Sec  \\\n",
       "count      110.000000                110.000000                  110.000000   \n",
       "mean        70.377455                 91.426091                   83.350182   \n",
       "std         32.157024                 17.448899                   26.604536   \n",
       "min          0.000000                  0.000000                    0.000000   \n",
       "25%         45.715000                 89.847500                   79.127500   \n",
       "50%         83.465000                 97.050000                   95.360000   \n",
       "75%        100.000000                100.000000                   99.960000   \n",
       "max        100.000000                100.000000                  100.000000   \n",
       "\n",
       "       U_Primary_With_Sec    Sec_Only  Sec_with_HrSec.  HrSec_Only  \\\n",
       "count          110.000000  110.000000       110.000000  110.000000   \n",
       "mean            70.609364   53.934273        75.888182   74.648636   \n",
       "std             35.725117   40.168495        36.671438   37.447975   \n",
       "min              0.000000    0.000000         0.000000    0.000000   \n",
       "25%             59.807500    0.000000        73.182500   67.147500   \n",
       "50%             85.710000   60.790000        95.275000   93.405000   \n",
       "75%             97.727500   94.497500       100.000000  100.000000   \n",
       "max            100.000000  100.000000       100.000000  100.000000   \n",
       "\n",
       "       All Schools  \n",
       "count   110.000000  \n",
       "mean     69.764273  \n",
       "std      30.433150  \n",
       "min       9.960000  \n",
       "25%      38.715000  \n",
       "50%      77.795000  \n",
       "75%      98.677500  \n",
       "max     100.000000  "
      ]
     },
     "execution_count": 5,
     "metadata": {},
     "output_type": "execute_result"
    }
   ],
   "source": [
    "elec.describe()"
   ]
  },
  {
   "cell_type": "markdown",
   "metadata": {},
   "source": [
    "## Now times for asking some good question and try to find the solution of that question through the data:\n",
    "### 1.Which state has maximum percentage of school with electricity in primary level?🙂\n",
    "Answer : **Chandigarh, Dadra & Nagar Haveli, Daman & Diu,Delhi, Lakshadweep, Puducherry**\tThese states has maximum (100%) electricity in primary schools."
   ]
  },
  {
   "cell_type": "code",
   "execution_count": 6,
   "metadata": {},
   "outputs": [
    {
     "data": {
      "text/html": [
       "<div>\n",
       "<style scoped>\n",
       "    .dataframe tbody tr th:only-of-type {\n",
       "        vertical-align: middle;\n",
       "    }\n",
       "\n",
       "    .dataframe tbody tr th {\n",
       "        vertical-align: top;\n",
       "    }\n",
       "\n",
       "    .dataframe thead th {\n",
       "        text-align: right;\n",
       "    }\n",
       "</style>\n",
       "<table border=\"1\" class=\"dataframe\">\n",
       "  <thead>\n",
       "    <tr style=\"text-align: right;\">\n",
       "      <th></th>\n",
       "      <th>State_UT</th>\n",
       "      <th>Primary_Only</th>\n",
       "    </tr>\n",
       "  </thead>\n",
       "  <tbody>\n",
       "    <tr>\n",
       "      <th>15</th>\n",
       "      <td>Chandigarh</td>\n",
       "      <td>100.0</td>\n",
       "    </tr>\n",
       "    <tr>\n",
       "      <th>16</th>\n",
       "      <td>Chandigarh</td>\n",
       "      <td>100.0</td>\n",
       "    </tr>\n",
       "    <tr>\n",
       "      <th>17</th>\n",
       "      <td>Chandigarh</td>\n",
       "      <td>100.0</td>\n",
       "    </tr>\n",
       "    <tr>\n",
       "      <th>23</th>\n",
       "      <td>Dadra &amp; Nagar Haveli</td>\n",
       "      <td>100.0</td>\n",
       "    </tr>\n",
       "    <tr>\n",
       "      <th>24</th>\n",
       "      <td>Daman &amp; Diu</td>\n",
       "      <td>100.0</td>\n",
       "    </tr>\n",
       "    <tr>\n",
       "      <th>25</th>\n",
       "      <td>Daman &amp; Diu</td>\n",
       "      <td>100.0</td>\n",
       "    </tr>\n",
       "    <tr>\n",
       "      <th>26</th>\n",
       "      <td>Daman &amp; Diu</td>\n",
       "      <td>100.0</td>\n",
       "    </tr>\n",
       "    <tr>\n",
       "      <th>27</th>\n",
       "      <td>Delhi</td>\n",
       "      <td>100.0</td>\n",
       "    </tr>\n",
       "    <tr>\n",
       "      <th>28</th>\n",
       "      <td>Delhi</td>\n",
       "      <td>100.0</td>\n",
       "    </tr>\n",
       "    <tr>\n",
       "      <th>29</th>\n",
       "      <td>Delhi</td>\n",
       "      <td>100.0</td>\n",
       "    </tr>\n",
       "    <tr>\n",
       "      <th>54</th>\n",
       "      <td>Lakshadweep</td>\n",
       "      <td>100.0</td>\n",
       "    </tr>\n",
       "    <tr>\n",
       "      <th>55</th>\n",
       "      <td>Lakshadweep</td>\n",
       "      <td>100.0</td>\n",
       "    </tr>\n",
       "    <tr>\n",
       "      <th>56</th>\n",
       "      <td>Lakshadweep</td>\n",
       "      <td>100.0</td>\n",
       "    </tr>\n",
       "    <tr>\n",
       "      <th>78</th>\n",
       "      <td>Puducherry</td>\n",
       "      <td>100.0</td>\n",
       "    </tr>\n",
       "    <tr>\n",
       "      <th>79</th>\n",
       "      <td>Puducherry</td>\n",
       "      <td>100.0</td>\n",
       "    </tr>\n",
       "    <tr>\n",
       "      <th>80</th>\n",
       "      <td>Puducherry</td>\n",
       "      <td>100.0</td>\n",
       "    </tr>\n",
       "  </tbody>\n",
       "</table>\n",
       "</div>"
      ],
      "text/plain": [
       "                State_UT  Primary_Only\n",
       "15            Chandigarh         100.0\n",
       "16            Chandigarh         100.0\n",
       "17            Chandigarh         100.0\n",
       "23  Dadra & Nagar Haveli         100.0\n",
       "24           Daman & Diu         100.0\n",
       "25           Daman & Diu         100.0\n",
       "26           Daman & Diu         100.0\n",
       "27                 Delhi         100.0\n",
       "28                 Delhi         100.0\n",
       "29                 Delhi         100.0\n",
       "54           Lakshadweep         100.0\n",
       "55           Lakshadweep         100.0\n",
       "56           Lakshadweep         100.0\n",
       "78            Puducherry         100.0\n",
       "79            Puducherry         100.0\n",
       "80            Puducherry         100.0"
      ]
     },
     "execution_count": 6,
     "metadata": {},
     "output_type": "execute_result"
    }
   ],
   "source": [
    "max_val = max(elec['Primary_Only'])\n",
    "elec[['State_UT','Primary_Only']].loc[elec['Primary_Only'] == max_val]"
   ]
  },
  {
   "cell_type": "markdown",
   "metadata": {},
   "source": [
    "### 2.Which state has minimum percentage of school with electricity in primary level? 😔\n",
    "Answer: **Bihar** has minimum(4.12%) percentage of school wih electricity in Primary level."
   ]
  },
  {
   "cell_type": "code",
   "execution_count": 7,
   "metadata": {},
   "outputs": [
    {
     "data": {
      "text/html": [
       "<div>\n",
       "<style scoped>\n",
       "    .dataframe tbody tr th:only-of-type {\n",
       "        vertical-align: middle;\n",
       "    }\n",
       "\n",
       "    .dataframe tbody tr th {\n",
       "        vertical-align: top;\n",
       "    }\n",
       "\n",
       "    .dataframe thead th {\n",
       "        text-align: right;\n",
       "    }\n",
       "</style>\n",
       "<table border=\"1\" class=\"dataframe\">\n",
       "  <thead>\n",
       "    <tr style=\"text-align: right;\">\n",
       "      <th></th>\n",
       "      <th>State_UT</th>\n",
       "      <th>Primary_Only</th>\n",
       "    </tr>\n",
       "  </thead>\n",
       "  <tbody>\n",
       "    <tr>\n",
       "      <th>12</th>\n",
       "      <td>Bihar</td>\n",
       "      <td>4.12</td>\n",
       "    </tr>\n",
       "  </tbody>\n",
       "</table>\n",
       "</div>"
      ],
      "text/plain": [
       "   State_UT  Primary_Only\n",
       "12    Bihar          4.12"
      ]
     },
     "execution_count": 7,
     "metadata": {},
     "output_type": "execute_result"
    }
   ],
   "source": [
    "min_val = min(elec['Primary_Only'])\n",
    "elec[['State_UT','Primary_Only']].loc[elec['Primary_Only'] == min_val]\n"
   ]
  },
  {
   "cell_type": "markdown",
   "metadata": {},
   "source": [
    "## Let look into the progress through the year 2014 and 2015"
   ]
  },
  {
   "cell_type": "code",
   "execution_count": 8,
   "metadata": {},
   "outputs": [],
   "source": [
    "filt_14 = elec['year'] == '2014-15'\n",
    "filt_15 = elec['year'] == '2015-16'\n",
    "def extract_data(data):    #function to extract data and make list out of that.\n",
    "    new_data = []\n",
    "    for d in data:\n",
    "        new_data.append(d)\n",
    "    return new_data"
   ]
  },
  {
   "cell_type": "code",
   "execution_count": 9,
   "metadata": {},
   "outputs": [],
   "source": [
    "elec_14 = extract_data(elec.loc[filt_14,'Primary_Only'])\n",
    "elec_15 = extract_data(elec.loc[filt_15,'Primary_Only'])\n",
    "states = extract_data(elec.loc[filt_15, 'State_UT'])"
   ]
  },
  {
   "cell_type": "code",
   "execution_count": 10,
   "metadata": {},
   "outputs": [
    {
     "data": {
      "text/plain": [
       "<matplotlib.legend.Legend at 0x1ec9c3d0e20>"
      ]
     },
     "execution_count": 10,
     "metadata": {},
     "output_type": "execute_result"
    },
    {
     "data": {
      "image/png": "[encoded data removed]",
      "text/plain": [
       "<Figure size 1800x720 with 1 Axes>"
      ]
     },
     "metadata": {
      "needs_background": "light"
     },
     "output_type": "display_data"
    }
   ],
   "source": [
    "plt.figure(figsize=(25,10))\n",
    "x_indexes = np.arange(len(states))\n",
    "width = .4\n",
    "plt.bar(x_indexes,elec_14,width =width,label = '2014-15')\n",
    "plt.bar(x_indexes+width,elec_15,width=width,label = '2015-16')\n",
    "plt.xticks(ticks=x_indexes,labels = states,rotation = 35)\n",
    "plt.tight_layout()\n",
    "plt.legend()"
   ]
  },
  {
   "cell_type": "code",
   "execution_count": null,
   "metadata": {},
   "outputs": [],
   "source": []
  }
 ],
 "metadata": {
  "kernelspec": {
   "display_name": "Python 3",
   "language": "python",
   "name": "python3"
  },
  "language_info": {
   "codemirror_mode": {
    "name": "ipython",
    "version": 3
   },
   "file_extension": ".py",
   "mimetype": "text/x-python",
   "name": "python",
   "nbconvert_exporter": "python",
   "pygments_lexer": "ipython3",
   "version": "3.8.0"
  }
 },
 "nbformat": 4,
 "nbformat_minor": 4
}
